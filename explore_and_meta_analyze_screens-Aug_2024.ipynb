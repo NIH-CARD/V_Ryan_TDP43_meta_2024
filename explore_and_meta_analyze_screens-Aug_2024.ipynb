{
  "cells": [
    {
      "cell_type": "markdown",
      "metadata": {
        "id": "pQ7pvr_pVOkj"
      },
      "source": [
        "# Explore and meta-analyze the screens from Veronica's team with those from CRISPRBrain.\n",
        "\n",
        " - **Project:** CARD ARDIS.\n",
        " - **Author(s):** Mike Nalls + Veronica Ryan and James Harwot.\n",
        "\n",
        "---\n",
        "### Quick Description:\n",
        "\n",
        "0.   Set up the environment.\n",
        "1.   Explore the data.\n",
        "2.   Harmonize the data.\n",
        "3.   Meta-analyze the screens (each C-Brain screen to each veronica screen).\n",
        "4.   FDR adjustments and similar.\n",
        "5.   Anything novel?\n",
        "\n",
        "Note, this code not pretty because I wrote it during a conference that I was presenting at. ;-)\n",
        "\n"
      ]
    },
    {
      "cell_type": "markdown",
      "metadata": {
        "id": "e-dmUiVoVMNT"
      },
      "source": [
        "# Set it up."
      ]
    },
    {
      "cell_type": "code",
      "execution_count": null,
      "metadata": {
        "colab": {
          "base_uri": "https://localhost:8080/"
        },
        "id": "2OLOYozqUno4",
        "outputId": "226f0030-374e-4f1d-bbf6-36e10c637e6e"
      },
      "outputs": [
        {
          "name": "stdout",
          "output_type": "stream",
          "text": [
            "Mounted at /content/drive/\n"
          ]
        }
      ],
      "source": [
        "import pandas as pd\n",
        "import numpy as np\n",
        "from scipy.stats import norm\n",
        "import os\n",
        "from google.colab import drive\n",
        "from scipy.stats import zscore\n",
        "drive.mount('/content/drive/')\n",
        "os.chdir(\"/screens_meta/\")"
      ]
    },
    {
      "cell_type": "markdown",
      "metadata": {
        "id": "m8R0zVZdYPN1"
      },
      "source": [
        "# Explore the data."
      ]
    },
    {
      "cell_type": "code",
      "execution_count": null,
      "metadata": {
        "id": "hv7NgGsHYRME"
      },
      "outputs": [],
      "source": [
        "i3N_df = pd.read_csv(\"./veronica/rra-i3N.sgrna_summary.txt\", delim_whitespace=True)\n",
        "STMN2_df = pd.read_csv(\"./veronica/rra-High-Low-STMN2.sgrna_summary.txt\", delim_whitespace=True)\n",
        "i3N_high_df = pd.read_csv(\"./veronica/rra-ipsc-i3N-high.sgrna_summary.txt\", delim_whitespace=True)\n",
        "ipsc_i3N_low_df = pd.read_csv(\"./veronica/rra-ipsc-i3N-low.sgrna_summary.txt\", delim_whitespace=True)\n",
        "ipsc_df = pd.read_csv(\"./veronica/rra-ipsc.sgrna_summary.txt\", delim_whitespace=True)"
      ]
    },
    {
      "cell_type": "code",
      "execution_count": null,
      "metadata": {
        "id": "cQfDYdX2YwQJ"
      },
      "outputs": [],
      "source": [
        "cellrox_df = pd.read_csv(\"./cbrain/Glutamatergic Neuron-CellRox-CRISPRi.csv\")\n",
        "liperfluo_df = pd.read_csv(\"./cbrain/Glutamatergic Neuron-Liperfluo-CRISPRi.csv\")"
      ]
    },
    {
      "cell_type": "markdown",
      "metadata": {
        "id": "nWwlQ_OohfaX"
      },
      "source": [
        "# Harmonize the data."
      ]
    },
    {
      "cell_type": "markdown",
      "metadata": {
        "id": "nB0qRuWTe2Vl"
      },
      "source": [
        "Here we try to make a standardized effect estimate from the phenotype score and LFCs. Then we derived estimated SEs."
      ]
    },
    {
      "cell_type": "code",
      "execution_count": null,
      "metadata": {
        "id": "IzwN2J5-e8SQ"
      },
      "outputs": [],
      "source": [
        "cellrox_df['beta'] = zscore(cellrox_df['Phenotype'])\n",
        "liperfluo_df['beta'] = zscore(liperfluo_df['Phenotype'])\n",
        "i3N_df['beta'] = zscore(i3N_df['LFC'])\n",
        "STMN2_df['beta'] = zscore(STMN2_df['LFC'])\n",
        "i3N_high_df['beta'] = zscore(i3N_high_df['LFC'])\n",
        "ipsc_i3N_low_df['beta'] = zscore(ipsc_i3N_low_df['LFC'])\n",
        "ipsc_df['beta'] = zscore(ipsc_df['LFC'])"
      ]
    },
    {
      "cell_type": "markdown",
      "metadata": {
        "id": "rVu-gUcFdBw2"
      },
      "source": [
        "Stabilize extreme p-values to floating points."
      ]
    },
    {
      "cell_type": "code",
      "execution_count": null,
      "metadata": {
        "id": "cUCoSqi6dFLe"
      },
      "outputs": [],
      "source": [
        "cellrox_df['temp_p'] = cellrox_df['P Value']\n",
        "liperfluo_df['temp_p'] = liperfluo_df['P Value']\n",
        "i3N_df['temp_p'] = i3N_df['p.twosided']\n",
        "STMN2_df['temp_p'] = STMN2_df['p.twosided']\n",
        "i3N_high_df['temp_p'] = i3N_high_df['p.twosided']\n",
        "ipsc_i3N_low_df['temp_p'] = ipsc_i3N_low_df['p.twosided']\n",
        "ipsc_df['temp_p'] = ipsc_df['p.twosided']"
      ]
    },
    {
      "cell_type": "code",
      "execution_count": null,
      "metadata": {
        "id": "o8HwrpMNeUiy"
      },
      "outputs": [],
      "source": [
        "threshold = 1e-10\n",
        "\n",
        "cellrox_df['temp_p'] = cellrox_df['temp_p'].apply(lambda x: max(x, threshold))\n",
        "liperfluo_df['temp_p'] = liperfluo_df['temp_p'].apply(lambda x: max(x, threshold))\n",
        "i3N_df['temp_p'] = i3N_df['temp_p'].apply(lambda x: max(x, threshold))\n",
        "STMN2_df['temp_p'] = STMN2_df['temp_p'].apply(lambda x: max(x, threshold))\n",
        "i3N_high_df['temp_p'] = i3N_high_df['temp_p'].apply(lambda x: max(x, threshold))\n",
        "ipsc_i3N_low_df['temp_p'] = ipsc_i3N_low_df['temp_p'].apply(lambda x: max(x, threshold))\n",
        "ipsc_df['temp_p'] = ipsc_df['temp_p'].apply(lambda x: max(x, threshold))"
      ]
    },
    {
      "cell_type": "markdown",
      "metadata": {
        "id": "3jXMR35bcJVv"
      },
      "source": [
        "Note the Z scores calculated below are absolute value Z scores."
      ]
    },
    {
      "cell_type": "code",
      "execution_count": null,
      "metadata": {
        "id": "a2Oc-JnWgL-f"
      },
      "outputs": [],
      "source": [
        "cellrox_df['z_score'] = norm.ppf(1 - cellrox_df['temp_p'] / 2)\n",
        "liperfluo_df['z_score'] = norm.ppf(1 - liperfluo_df['temp_p'] / 2)\n",
        "i3N_df['z_score'] = norm.ppf(1 - i3N_df['temp_p'] / 2)\n",
        "STMN2_df['z_score'] = norm.ppf(1 - STMN2_df['temp_p'] / 2)\n",
        "i3N_high_df['z_score'] = norm.ppf(1 - i3N_high_df['temp_p'] / 2)\n",
        "ipsc_i3N_low_df['z_score'] = norm.ppf(1 - ipsc_i3N_low_df['temp_p'] / 2)\n",
        "ipsc_df['z_score'] = norm.ppf(1 - ipsc_df['temp_p'] / 2)"
      ]
    },
    {
      "cell_type": "code",
      "execution_count": null,
      "metadata": {
        "id": "6IifnNUfg5Wp"
      },
      "outputs": [],
      "source": [
        "cellrox_df['se'] = abs(cellrox_df['beta'] / cellrox_df['z_score'])\n",
        "liperfluo_df['se'] = abs(liperfluo_df['beta'] / liperfluo_df['z_score'])\n",
        "i3N_df['se'] = abs(i3N_df['beta'] / i3N_df['z_score'])\n",
        "STMN2_df['se'] = abs(STMN2_df['beta'] / STMN2_df['z_score'])\n",
        "i3N_high_df['se'] = abs(i3N_high_df['beta'] / i3N_high_df['z_score'])\n",
        "ipsc_i3N_low_df['se'] = abs(ipsc_i3N_low_df['beta'] / ipsc_i3N_low_df['z_score'])\n",
        "ipsc_df['se'] = abs(ipsc_df['beta'] / ipsc_df['z_score'])"
      ]
    },
    {
      "cell_type": "code",
      "execution_count": null,
      "metadata": {
        "id": "Y2gj3rZUj0tQ"
      },
      "outputs": [],
      "source": [
        "cellrox_df['p'] = cellrox_df['temp_p']\n",
        "liperfluo_df['p'] = liperfluo_df['temp_p']\n",
        "i3N_df['p'] = i3N_df['temp_p']\n",
        "STMN2_df['p'] = STMN2_df['temp_p']\n",
        "i3N_high_df['p'] = i3N_high_df['temp_p']\n",
        "ipsc_i3N_low_df['p'] = ipsc_i3N_low_df['temp_p']\n",
        "ipsc_df['p'] = ipsc_df['temp_p']"
      ]
    },
    {
      "cell_type": "markdown",
      "metadata": {
        "id": "tjPi5m6mZsKV"
      },
      "source": [
        "Quick reduce and some additional munging."
      ]
    },
    {
      "cell_type": "code",
      "execution_count": null,
      "metadata": {
        "id": "Bu_nFTk1aNyH"
      },
      "outputs": [],
      "source": [
        "reduced_cellrox_df = cellrox_df[['Gene','beta','se','z_score','p']]\n",
        "reduced_liperfluo_df = liperfluo_df[['Gene','beta','se','z_score','p']]\n",
        "reduced_i3N_df = i3N_df[['Gene','beta','se','z_score','p']]\n",
        "reduced_STMN2_df = STMN2_df[['Gene','beta','se','z_score','p']]\n",
        "reduced_i3N_high_df = i3N_high_df[['Gene','beta','se','z_score','p']]\n",
        "reduced_ipsc_i3N_low_df = ipsc_i3N_low_df[['Gene','beta','se','z_score','p']]\n",
        "reduced_ipsc_df = ipsc_df[['Gene','beta','se','z_score','p']]"
      ]
    },
    {
      "cell_type": "markdown",
      "metadata": {
        "id": "V62mZ-TXg1NJ"
      },
      "source": [
        "Export these munged files."
      ]
    },
    {
      "cell_type": "code",
      "execution_count": null,
      "metadata": {
        "id": "cw7JkYFzg3hX"
      },
      "outputs": [],
      "source": [
        "reduced_cellrox_df.to_csv(\"cellrox.csv\")\n",
        "reduced_liperfluo_df.to_csv(\"liperfluo.csv\")\n",
        "reduced_i3N_df.to_csv(\"i3N.csv\")\n",
        "reduced_STMN2_df.to_csv(\"STMN2.csv\")\n",
        "reduced_i3N_high_df.to_csv(\"i3N_hig.csv\")\n",
        "reduced_ipsc_i3N_low_df.to_csv(\"i3N_low.csv\")\n",
        "reduced_ipsc_df.to_csv(\"ipsc.csv\")"
      ]
    },
    {
      "cell_type": "markdown",
      "metadata": {
        "id": "Ki1c9o6nhVkE"
      },
      "source": [
        "# Meta_time.\n"
      ]
    },
    {
      "cell_type": "markdown",
      "metadata": {
        "id": "2UH0sT_JhyTo"
      },
      "source": [
        "First set some functions to speed this up."
      ]
    },
    {
      "cell_type": "code",
      "execution_count": null,
      "metadata": {
        "id": "JUODwf4PhxNF"
      },
      "outputs": [],
      "source": [
        "from statsmodels.stats.multitest import multipletests\n",
        "\n",
        "def read_data(file_path):\n",
        "    return pd.read_csv(file_path)\n",
        "\n",
        "def merge_data(df1, df2):\n",
        "    return pd.merge(df1, df2, on='Gene', suffixes=('_1', '_2'))\n",
        "\n",
        "def fixed_effects(df):\n",
        "    df['weight_1'] = 1 / df['se_1']**2\n",
        "    df['weight_2'] = 1 / df['se_2']**2\n",
        "    df['weighted_beta'] = (df['beta_1'] * df['weight_1'] + df['beta_2'] * df['weight_2']) / (df['weight_1'] + df['weight_2'])\n",
        "    df['variance'] = 1 / (df['weight_1'] + df['weight_2'])\n",
        "    df['fixed_effect_se'] = np.sqrt(df['variance'])\n",
        "    df['fixed_effect_z'] = df['weighted_beta'] / df['fixed_effect_se']\n",
        "    df['fixed_effect_p'] = norm.sf(abs(df['fixed_effect_z'])) * 2  # two-tailed test\n",
        "    df['fixed_effect_p_FDR_adjusted'] = multipletests(df['fixed_effect_p'], method='fdr_bh')[1]\n",
        "    return df\n"
      ]
    },
    {
      "cell_type": "markdown",
      "metadata": {
        "id": "qd9WFmaOkPxy"
      },
      "source": [
        "Fire off the metas for cellrox ..."
      ]
    },
    {
      "cell_type": "code",
      "execution_count": null,
      "metadata": {
        "id": "rTaUbGDwkOS-"
      },
      "outputs": [],
      "source": [
        "file_path_1 = 'cellrox.csv'\n",
        "file_path_2 = 'i3N.csv'\n",
        "file_out = file_path_1.split('.', maxsplit=1)[0] + \"_x_\" + file_path_2.split('.', maxsplit=1)[0] + \"_meta_analysis_results.csv\"\n",
        "\n",
        "# Process\n",
        "df1 = read_data(file_path_1)\n",
        "df2 = read_data(file_path_2)\n",
        "merged_df = merge_data(df1, df2)\n",
        "\n",
        "# Perform Fixed Effects Meta-Analysis\n",
        "fe_results = fixed_effects(merged_df)\n",
        "\n",
        "# Exports\n",
        "fe_results.to_csv(file_out, index=False)\n",
        "\n",
        "# Summarize\n",
        "fe_results.describe()"
      ]
    },
    {
      "cell_type": "code",
      "execution_count": null,
      "metadata": {
        "id": "vcUcCLoBmeZG"
      },
      "outputs": [],
      "source": [
        "file_path_1 = 'cellrox.csv'\n",
        "file_path_2 = 'STMN2.csv'\n",
        "file_out = file_path_1.split('.', maxsplit=1)[0] + \"_x_\" + file_path_2.split('.', maxsplit=1)[0] + \"_meta_analysis_results.csv\"\n",
        "\n",
        "# Process\n",
        "df1 = read_data(file_path_1)\n",
        "df2 = read_data(file_path_2)\n",
        "merged_df = merge_data(df1, df2)\n",
        "\n",
        "# Perform Fixed Effects Meta-Analysis\n",
        "fe_results = fixed_effects(merged_df)\n",
        "\n",
        "# Exports\n",
        "fe_results.to_csv(file_out, index=False)\n",
        "\n",
        "# Summarize\n",
        "fe_results.describe()"
      ]
    },
    {
      "cell_type": "code",
      "execution_count": null,
      "metadata": {
        "id": "-sdBaAwemek3"
      },
      "outputs": [],
      "source": [
        "file_path_1 = 'cellrox.csv'\n",
        "file_path_2 = 'i3N_hig.csv'\n",
        "file_out = file_path_1.split('.', maxsplit=1)[0] + \"_x_\" + file_path_2.split('.', maxsplit=1)[0] + \"_meta_analysis_results.csv\"\n",
        "\n",
        "# Process\n",
        "df1 = read_data(file_path_1)\n",
        "df2 = read_data(file_path_2)\n",
        "merged_df = merge_data(df1, df2)\n",
        "\n",
        "# Perform Fixed Effects Meta-Analysis\n",
        "fe_results = fixed_effects(merged_df)\n",
        "\n",
        "# Exports\n",
        "fe_results.to_csv(file_out, index=False)\n",
        "\n",
        "# Summarize\n",
        "fe_results.describe()"
      ]
    },
    {
      "cell_type": "code",
      "execution_count": null,
      "metadata": {
        "id": "_3UNqwVZmet8"
      },
      "outputs": [],
      "source": [
        "file_path_1 = 'cellrox.csv'\n",
        "file_path_2 = 'i3N_low.csv'\n",
        "file_out = file_path_1.split('.', maxsplit=1)[0] + \"_x_\" + file_path_2.split('.', maxsplit=1)[0] + \"_meta_analysis_results.csv\"\n",
        "\n",
        "# Process\n",
        "df1 = read_data(file_path_1)\n",
        "df2 = read_data(file_path_2)\n",
        "merged_df = merge_data(df1, df2)\n",
        "\n",
        "# Perform Fixed Effects Meta-Analysis\n",
        "fe_results = fixed_effects(merged_df)\n",
        "\n",
        "# Exports\n",
        "fe_results.to_csv(file_out, index=False)\n",
        "\n",
        "# Summarize\n",
        "fe_results.describe()"
      ]
    },
    {
      "cell_type": "code",
      "execution_count": null,
      "metadata": {
        "id": "VWT_Qjgbme44"
      },
      "outputs": [],
      "source": [
        "file_path_1 = 'cellrox.csv'\n",
        "file_path_2 = 'ipsc.csv'\n",
        "file_out = file_path_1.split('.', maxsplit=1)[0] + \"_x_\" + file_path_2.split('.', maxsplit=1)[0] + \"_meta_analysis_results.csv\"\n",
        "\n",
        "# Process\n",
        "df1 = read_data(file_path_1)\n",
        "df2 = read_data(file_path_2)\n",
        "merged_df = merge_data(df1, df2)\n",
        "\n",
        "# Perform Fixed Effects Meta-Analysis\n",
        "fe_results = fixed_effects(merged_df)\n",
        "\n",
        "# Exports\n",
        "fe_results.to_csv(file_out, index=False)\n",
        "\n",
        "# Summarize\n",
        "fe_results.describe()"
      ]
    },
    {
      "cell_type": "markdown",
      "metadata": {
        "id": "KdXP0qUzm5po"
      },
      "source": [
        "Fire off the metas for liperflou."
      ]
    },
    {
      "cell_type": "code",
      "execution_count": null,
      "metadata": {
        "id": "mm8jGirdm5Jp"
      },
      "outputs": [],
      "source": [
        "file_path_1 = 'liperfluo.csv'\n",
        "file_path_2 = 'i3N.csv'\n",
        "file_out = file_path_1.split('.', maxsplit=1)[0] + \"_x_\" + file_path_2.split('.', maxsplit=1)[0] + \"_meta_analysis_results.csv\"\n",
        "\n",
        "# Process\n",
        "df1 = read_data(file_path_1)\n",
        "df2 = read_data(file_path_2)\n",
        "merged_df = merge_data(df1, df2)\n",
        "\n",
        "# Perform Fixed Effects Meta-Analysis\n",
        "fe_results = fixed_effects(merged_df)\n",
        "\n",
        "# Exports\n",
        "fe_results.to_csv(file_out, index=False)\n",
        "\n",
        "# Summarize\n",
        "fe_results.describe()"
      ]
    },
    {
      "cell_type": "code",
      "execution_count": null,
      "metadata": {
        "id": "7OK8uChlm_g6"
      },
      "outputs": [],
      "source": [
        "file_path_1 = 'liperfluo.csv'\n",
        "file_path_2 = 'STMN2.csv'\n",
        "file_out = file_path_1.split('.', maxsplit=1)[0] + \"_x_\" + file_path_2.split('.', maxsplit=1)[0] + \"_meta_analysis_results.csv\"\n",
        "\n",
        "# Process\n",
        "df1 = read_data(file_path_1)\n",
        "df2 = read_data(file_path_2)\n",
        "merged_df = merge_data(df1, df2)\n",
        "\n",
        "# Perform Fixed Effects Meta-Analysis\n",
        "fe_results = fixed_effects(merged_df)\n",
        "\n",
        "# Exports\n",
        "fe_results.to_csv(file_out, index=False)\n",
        "\n",
        "# Summarize\n",
        "fe_results.describe()"
      ]
    },
    {
      "cell_type": "code",
      "execution_count": null,
      "metadata": {
        "id": "9qR6qUjOm_rT"
      },
      "outputs": [],
      "source": [
        "file_path_1 = 'liperfluo.csv'\n",
        "file_path_2 = 'i3N_hig.csv'\n",
        "file_out = file_path_1.split('.', maxsplit=1)[0] + \"_x_\" + file_path_2.split('.', maxsplit=1)[0] + \"_meta_analysis_results.csv\"\n",
        "\n",
        "# Process\n",
        "df1 = read_data(file_path_1)\n",
        "df2 = read_data(file_path_2)\n",
        "merged_df = merge_data(df1, df2)\n",
        "\n",
        "# Perform Fixed Effects Meta-Analysis\n",
        "fe_results = fixed_effects(merged_df)\n",
        "\n",
        "# Exports\n",
        "fe_results.to_csv(file_out, index=False)\n",
        "\n",
        "# Summarize\n",
        "fe_results.describe()"
      ]
    },
    {
      "cell_type": "code",
      "execution_count": null,
      "metadata": {
        "id": "2K1ygX8Qm_2Q"
      },
      "outputs": [],
      "source": [
        "file_path_1 = 'liperfluo.csv'\n",
        "file_path_2 = 'i3N_low.csv'\n",
        "file_out = file_path_1.split('.', maxsplit=1)[0] + \"_x_\" + file_path_2.split('.', maxsplit=1)[0] + \"_meta_analysis_results.csv\"\n",
        "\n",
        "# Process\n",
        "df1 = read_data(file_path_1)\n",
        "df2 = read_data(file_path_2)\n",
        "merged_df = merge_data(df1, df2)\n",
        "\n",
        "# Perform Fixed Effects Meta-Analysis\n",
        "fe_results = fixed_effects(merged_df)\n",
        "\n",
        "# Exports\n",
        "fe_results.to_csv(file_out, index=False)\n",
        "\n",
        "# Summarize\n",
        "fe_results.describe()"
      ]
    },
    {
      "cell_type": "code",
      "execution_count": null,
      "metadata": {
        "id": "WRiTPV-DnABt"
      },
      "outputs": [],
      "source": [
        "file_path_1 = 'liperfluo.csv'\n",
        "file_path_2 = 'ipsc.csv'\n",
        "file_out = file_path_1.split('.', maxsplit=1)[0] + \"_x_\" + file_path_2.split('.', maxsplit=1)[0] + \"_meta_analysis_results.csv\"\n",
        "\n",
        "# Process\n",
        "df1 = read_data(file_path_1)\n",
        "df2 = read_data(file_path_2)\n",
        "merged_df = merge_data(df1, df2)\n",
        "\n",
        "# Perform Fixed Effects Meta-Analysis\n",
        "fe_results = fixed_effects(merged_df)\n",
        "\n",
        "# Exports\n",
        "fe_results.to_csv(file_out, index=False)\n",
        "\n",
        "# Summarize\n",
        "fe_results.describe()"
      ]
    },
    {
      "cell_type": "markdown",
      "metadata": {
        "id": "7BtsE53yn2WP"
      },
      "source": [
        "# Now see if there are any novel hits."
      ]
    },
    {
      "cell_type": "code",
      "execution_count": null,
      "metadata": {
        "colab": {
          "base_uri": "https://localhost:8080/"
        },
        "id": "4jZdHyH6n7Du",
        "outputId": "c85642aa-2e3a-461b-e411-c5fb0cd9894e"
      },
      "outputs": [
        {
          "name": "stdout",
          "output_type": "stream",
          "text": [
            "Processed liperfluo_x_STMN2_meta_analysis_results.csv and saved to annotated_liperfluo_x_STMN2_meta_analysis_results.csv.\n",
            "0    22957\n",
            "1      563\n",
            "Name: novel_hit, dtype: int64\n",
            "Processed liperfluo_x_ipsc_meta_analysis_results.csv and saved to annotated_liperfluo_x_ipsc_meta_analysis_results.csv.\n",
            "0    23239\n",
            "1      281\n",
            "Name: novel_hit, dtype: int64\n",
            "Processed liperfluo_x_i3N_meta_analysis_results.csv and saved to annotated_liperfluo_x_i3N_meta_analysis_results.csv.\n",
            "0    23101\n",
            "1      419\n",
            "Name: novel_hit, dtype: int64\n",
            "Processed liperfluo_x_i3N_low_meta_analysis_results.csv and saved to annotated_liperfluo_x_i3N_low_meta_analysis_results.csv.\n",
            "0    23122\n",
            "1      398\n",
            "Name: novel_hit, dtype: int64\n",
            "Processed liperfluo_x_i3N_hig_meta_analysis_results.csv and saved to annotated_liperfluo_x_i3N_hig_meta_analysis_results.csv.\n",
            "0    23020\n",
            "1      500\n",
            "Name: novel_hit, dtype: int64\n",
            "Processed cellrox_x_STMN2_meta_analysis_results.csv and saved to annotated_cellrox_x_STMN2_meta_analysis_results.csv.\n",
            "0    22974\n",
            "1      464\n",
            "Name: novel_hit, dtype: int64\n",
            "Processed cellrox_x_ipsc_meta_analysis_results.csv and saved to annotated_cellrox_x_ipsc_meta_analysis_results.csv.\n",
            "0    23234\n",
            "1      204\n",
            "Name: novel_hit, dtype: int64\n",
            "Processed cellrox_x_i3N_meta_analysis_results.csv and saved to annotated_cellrox_x_i3N_meta_analysis_results.csv.\n",
            "0    23108\n",
            "1      330\n",
            "Name: novel_hit, dtype: int64\n",
            "Processed cellrox_x_i3N_low_meta_analysis_results.csv and saved to annotated_cellrox_x_i3N_low_meta_analysis_results.csv.\n",
            "0    23159\n",
            "1      279\n",
            "Name: novel_hit, dtype: int64\n",
            "Processed cellrox_x_i3N_hig_meta_analysis_results.csv and saved to annotated_cellrox_x_i3N_hig_meta_analysis_results.csv.\n",
            "0    23101\n",
            "1      337\n",
            "Name: novel_hit, dtype: int64\n"
          ]
        }
      ],
      "source": [
        "import pandas as pd\n",
        "from statsmodels.stats.multitest import multipletests\n",
        "\n",
        "# List of file paths\n",
        "file_paths = ['liperfluo_x_STMN2_meta_analysis_results.csv', 'liperfluo_x_ipsc_meta_analysis_results.csv', 'liperfluo_x_i3N_meta_analysis_results.csv', 'liperfluo_x_i3N_low_meta_analysis_results.csv', 'liperfluo_x_i3N_hig_meta_analysis_results.csv', 'cellrox_x_STMN2_meta_analysis_results.csv', 'cellrox_x_ipsc_meta_analysis_results.csv', 'cellrox_x_i3N_meta_analysis_results.csv', 'cellrox_x_i3N_low_meta_analysis_results.csv', 'cellrox_x_i3N_hig_meta_analysis_results.csv']\n",
        "\n",
        "# Loop through each file\n",
        "for file_path in file_paths:\n",
        "    # Read the data\n",
        "    df = pd.read_csv(file_path)\n",
        "\n",
        "    # Apply FDR adjustment for each specified column and add results to new columns\n",
        "    for col in ['p_1', 'p_2']:\n",
        "        adjusted_p_values = multipletests(df[col], method='fdr_bh')[1]\n",
        "        df[f'{col}_FDR_adjusted'] = adjusted_p_values\n",
        "\n",
        "    # Create the 'novel_hit' column based on specified conditions\n",
        "    df['novel_hit'] = ((df['p_1_FDR_adjusted'] > 0.05) & (df['p_2_FDR_adjusted'] > 0.05) &\n",
        "                       (df['fixed_effect_p_FDR_adjusted'] < 0.05)).astype(int)\n",
        "\n",
        "    # Save the modified DataFrame to a binary format (pickle)\n",
        "    out_path = \"annotated_\" + file_path\n",
        "    df.to_csv(out_path, index=False)\n",
        "\n",
        "\n",
        "    print(f\"Processed {file_path} and saved to {out_path}.\")\n",
        "    print(df['novel_hit'].value_counts())\n"
      ]
    }
  ],
  "metadata": {
    "colab": {
      "provenance": [],
      "toc_visible": true
    },
    "kernelspec": {
      "display_name": "Python 3",
      "name": "python3"
    },
    "language_info": {
      "name": "python"
    }
  },
  "nbformat": 4,
  "nbformat_minor": 0
}
